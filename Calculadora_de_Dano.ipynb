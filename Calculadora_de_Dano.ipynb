{
  "nbformat": 4,
  "nbformat_minor": 0,
  "metadata": {
    "colab": {
      "name": "Calculadora de Dano.ipynb",
      "provenance": [],
      "collapsed_sections": [],
      "authorship_tag": "ABX9TyPAFvyC829/hqlD4JvPJoI0",
      "include_colab_link": true
    },
    "kernelspec": {
      "name": "python3",
      "display_name": "Python 3"
    },
    "language_info": {
      "name": "python"
    }
  },
  "cells": [
    {
      "cell_type": "markdown",
      "metadata": {
        "id": "view-in-github",
        "colab_type": "text"
      },
      "source": [
        "<a href=\"https://colab.research.google.com/github/filipemascarenhaspaiva/Projetoblue/blob/main/Calculadora_de_Dano.ipynb\" target=\"_parent\"><img src=\"https://colab.research.google.com/assets/colab-badge.svg\" alt=\"Open In Colab\"/></a>"
      ]
    },
    {
      "cell_type": "code",
      "metadata": {
        "colab": {
          "base_uri": "https://localhost:8080/"
        },
        "id": "nGSYbJQAGfqc",
        "outputId": "c3e175a8-f1f1-4dfe-a592-77621ba175ef"
      },
      "source": [
        "vida = int(input('Vida de um monstro (entre 10 e 50): '))\n",
        "ataque = int(input('Valor do ataque do jogador por turno (entre 5 e 10): '))\n",
        "arredondamento = vida % ataque\n",
        "print(f'Resultado: O jogador irá precisar de {vida//ataque+arredondamento} turnos para derrotar o monstro.')"
      ],
      "execution_count": 13,
      "outputs": [
        {
          "output_type": "stream",
          "text": [
            "Vida de um monstro (entre 10 e 50): 26\n",
            "Valor do ataque do jogador por turno (entre 5 e 10): 5\n",
            "Resultado: O jogador irá precisar de 6 turnos para derrotar o monstro.\n"
          ],
          "name": "stdout"
        }
      ]
    },
    {
      "cell_type": "code",
      "metadata": {
        "colab": {
          "base_uri": "https://localhost:8080/"
        },
        "id": "rOrms2d-JZob",
        "outputId": "90db1ede-dcae-47d8-cba1-1800089965f1"
      },
      "source": [
        "import random\n",
        "vitalidade = random.randrange(10,50)\n",
        "dano = int(input('Valor do ataque do jogador por turno (entre 5 e 10):'))\n",
        "exatidao= vitalidade % dano\n",
        "\n",
        "print(f'Vida do Monstro {vitalidade}\\nResultado: O jogador irá precisar de {vitalidade//dano+exatidao} turnos para derrotar o monstro.')"
      ],
      "execution_count": 23,
      "outputs": [
        {
          "output_type": "stream",
          "text": [
            "Valor do ataque do jogador por turno (entre 5 e 10):5\n",
            "Vida do Monstro 21\n",
            "Resultado: O jogador irá precisar de 5 turnos para derrotar o monstro.\n"
          ],
          "name": "stdout"
        }
      ]
    }
  ]
}