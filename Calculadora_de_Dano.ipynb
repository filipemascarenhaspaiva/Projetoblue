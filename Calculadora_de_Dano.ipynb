{
  "nbformat": 4,
  "nbformat_minor": 0,
  "metadata": {
    "colab": {
      "name": "Calculadora de Dano.ipynb",
      "provenance": [],
      "collapsed_sections": [],
      "authorship_tag": "ABX9TyPVbSlNz1SH2/ZWLI3V5eYG",
      "include_colab_link": true
    },
    "kernelspec": {
      "name": "python3",
      "display_name": "Python 3"
    },
    "language_info": {
      "name": "python"
    }
  },
  "cells": [
    {
      "cell_type": "markdown",
      "metadata": {
        "id": "view-in-github",
        "colab_type": "text"
      },
      "source": [
        "<a href=\"https://colab.research.google.com/github/filipemascarenhaspaiva/Projetoblue/blob/main/Calculadora_de_Dano.ipynb\" target=\"_parent\"><img src=\"https://colab.research.google.com/assets/colab-badge.svg\" alt=\"Open In Colab\"/></a>"
      ]
    },
    {
      "cell_type": "code",
      "metadata": {
        "colab": {
          "base_uri": "https://localhost:8080/"
        },
        "id": "nGSYbJQAGfqc",
        "outputId": "561e3bb5-da17-41fa-ce6b-cbe6daf424b7"
      },
      "source": [
        "vida = int(input('Vida de um monstro (entre 10 e 50): '))\n",
        "while vida < 10 or vida > 50:\n",
        "  vida=int(input(\"entre 10 e 50:\\n\"))\n",
        "\n",
        "ataque = int(input('Valor do ataque do jogador por turno (entre 5 e 10): '))\n",
        "while ataque < 5 or ataque > 10:\n",
        "  ataque=int(input(\"entre 5 e 10:\\n\"))\n",
        "\n",
        "turnos = vida//ataque \n",
        "if vida % ataque > 0: \n",
        "  turnos = turnos + 1 \n",
        "print(f'Resultado: O jogador irá precisar de {turnos} turnos para derrotar o monstro.')"
      ],
      "execution_count": 54,
      "outputs": [
        {
          "output_type": "stream",
          "text": [
            "Vida de um monstro (entre 10 e 50): 2\n",
            "entre 10 e 50:\n",
            "3\n",
            "entre 10 e 50:\n",
            "70\n",
            "entre 10 e 50:\n",
            "9\n",
            "entre 10 e 50:\n",
            "15\n",
            "Valor do ataque do jogador por turno (entre 5 e 10): 2\n",
            "entre 5 e 1012\n",
            "entre 5 e 105\n",
            "Resultado: O jogador irá precisar de 3 turnos para derrotar o monstro.\n"
          ],
          "name": "stdout"
        }
      ]
    },
    {
      "cell_type": "code",
      "metadata": {
        "colab": {
          "base_uri": "https://localhost:8080/"
        },
        "id": "rOrms2d-JZob",
        "outputId": "a0df142a-79c7-41f7-b7e7-7bb657be2e59"
      },
      "source": [
        "import random\n",
        "vitalidade = random.randrange(10,50)\n",
        "dano = int(input('Valor do ataque do jogador por turno (entre 5 e 10):'))\n",
        "while dano < 5 or dano > 10:\n",
        "  dano=int(input(\"entre 5 e 10:\\n\"))\n",
        "\n",
        "tempo = vitalidade//dano\n",
        "if vitalidade % dano > 0: \n",
        "  tempo = tempo + 1 \n",
        "\n",
        "print(f'Vida do Monstro {vitalidade}\\nResultado: O jogador irá precisar de {tempo} turnos para derrotar o monstro.')"
      ],
      "execution_count": 55,
      "outputs": [
        {
          "output_type": "stream",
          "text": [
            "Valor do ataque do jogador por turno (entre 5 e 10):2\n",
            "entre 5 e 10:\n",
            "3\n",
            "entre 5 e 10:\n",
            "5\n",
            "Vida do Monstro 34\n",
            "Resultado: O jogador irá precisar de 7 turnos para derrotar o monstro.\n"
          ],
          "name": "stdout"
        }
      ]
    }
  ]
}