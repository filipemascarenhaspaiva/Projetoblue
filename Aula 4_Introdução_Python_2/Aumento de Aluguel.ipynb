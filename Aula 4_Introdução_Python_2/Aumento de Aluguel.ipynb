{
  "nbformat": 4,
  "nbformat_minor": 0,
  "metadata": {
    "colab": {
      "name": "Calculadora do aumento de aluguel.ipynb",
      "provenance": [],
      "collapsed_sections": []
    },
    "kernelspec": {
      "name": "python3",
      "display_name": "Python 3"
    },
    "language_info": {
      "name": "python"
    }
  },
  "cells": [
    {
      "cell_type": "code",
      "metadata": {
        "id": "TtB_N9K4DcEh"
      },
      "source": [
        "aluguel = float(input('valor do aluguel: '))\n",
        "\n",
        "print('valor do aluguel reajustado: R$', aluguel+aluguel*0.31)"
      ],
      "execution_count": null,
      "outputs": []
    },
    {
      "cell_type": "code",
      "metadata": {
        "id": "_2cp_T50FX0s"
      },
      "source": [
        "aluguel = float(input('valor do aluguel:'))\n",
        "percentual = float(input('valor do percentual '))\n",
        "\n",
        "print('valor reajustado', aluguel+percentual/100*aluguel)"
      ],
      "execution_count": null,
      "outputs": []
    }
  ]
}