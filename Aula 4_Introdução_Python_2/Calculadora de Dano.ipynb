{
  "nbformat": 4,
  "nbformat_minor": 0,
  "metadata": {
    "colab": {
      "name": "Calculadora de Dano.ipynb",
      "provenance": [],
      "collapsed_sections": []
    },
    "kernelspec": {
      "name": "python3",
      "display_name": "Python 3"
    },
    "language_info": {
      "name": "python"
    }
  },
  "cells": [
    {
      "cell_type": "code",
      "metadata": {
        "id": "nGSYbJQAGfqc"
      },
      "source": [
        "vida = int(input('Vida de um monstro (entre 10 e 50): '))\n",
        "while vida < 10 or vida > 50:\n",
        "  vida=int(input(\"entre 10 e 50:\\n\"))\n",
        "\n",
        "ataque = int(input('Valor do ataque do jogador por turno (entre 5 e 10): '))\n",
        "while ataque < 5 or ataque > 10:\n",
        "  ataque=int(input(\"entre 5 e 10:\\n\"))\n",
        "\n",
        "turnos = vida//ataque \n",
        "if vida % ataque > 0: \n",
        "  turnos = turnos + 1 \n",
        "print(f'Resultado: O jogador irá precisar de {turnos} turnos para derrotar o monstro.')"
      ],
      "execution_count": null,
      "outputs": []
    },
    {
      "cell_type": "code",
      "metadata": {
        "id": "rOrms2d-JZob"
      },
      "source": [
        "import random\n",
        "vitalidade = random.randrange(10,50)\n",
        "dano = int(input('Valor do ataque do jogador por turno (entre 5 e 10):'))\n",
        "while dano < 5 or dano > 10:\n",
        "  dano=int(input(\"entre 5 e 10:\\n\"))\n",
        "\n",
        "tempo = vitalidade//dano\n",
        "if vitalidade % dano > 0: \n",
        "  tempo = tempo + 1 \n",
        "\n",
        "print(f'Vida do Monstro {vitalidade}\\nResultado: O jogador irá precisar de {tempo} turnos para derrotar o monstro.')"
      ],
      "execution_count": null,
      "outputs": []
    }
  ]
}