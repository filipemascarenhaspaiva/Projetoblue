{
  "nbformat": 4,
  "nbformat_minor": 0,
  "metadata": {
    "colab": {
      "name": "Projeto_RPG_Condicional.ipynb",
      "provenance": [],
      "collapsed_sections": []
    },
    "kernelspec": {
      "name": "python3",
      "display_name": "Python 3"
    },
    "language_info": {
      "name": "python"
    }
  },
  "cells": [
    {
      "cell_type": "code",
      "metadata": {
        "colab": {
          "base_uri": "https://localhost:8080/"
        },
        "id": "qrhYi7C5U_Dk",
        "outputId": "1c06ed9d-7a6a-471f-acd5-90de2d94a9e0"
      },
      "source": [
        "modo_de_jogo = (input('Digite o modo de jogo que deseja emtre \"medieval\" e \"futurista\":\\n'))\n",
        "\n",
        "if modo_de_jogo.upper() == 'MEDIEVAL':\n",
        "  print('Espada')\n",
        "if modo_de_jogo.upper() == 'FUTURISTA':\n",
        "  print('sabre de luz')\n",
        "elif modo_de_jogo.upper() != 'MEDIEVAL' and 'FUTURISTA':\n",
        "  print('Tente Novamente')\n",
        "\n",
        "\n",
        "\n"
      ],
      "execution_count": null,
      "outputs": [
        {
          "output_type": "stream",
          "text": [
            "Digite o modo de jogo que deseja emtre \"medieval\" e \"futurista\":\n",
            "73\n",
            "Tente Novamente\n"
          ],
          "name": "stdout"
        }
      ]
    },
    {
      "cell_type": "code",
      "metadata": {
        "colab": {
          "base_uri": "https://localhost:8080/"
        },
        "id": "NAtuU-QfwyL8",
        "outputId": "2425c7ad-bd09-416b-94ce-a889ad8afffa"
      },
      "source": [
        "arma = (input('Digite \"espada\" para atacar o chefão com a espada medieval e digite \"sabre\" para ataca-lo com o sabre de luz:\\n'))\n",
        "\n",
        "if arma.upper() == 'ESPADA':\n",
        "  print('VOCÊ AINDA NÃO MATOU O CHEFÃO')\n",
        "if arma.upper() == 'SABRE':\n",
        "  print('VOCÊ DERROTOU O CHEFÃO COM O SABRE DE LUZ')\n",
        "elif arma.upper() != 'ESPADA' and 'SABRE':\n",
        "  print('ATAQUE NOVAMENTE')"
      ],
      "execution_count": null,
      "outputs": [
        {
          "output_type": "stream",
          "text": [
            "Digite \"espada\" para atacar o chefão com a espada medieval e digite \"sabre\" para ataca-lo com o sabre de luz:\n",
            "8\n",
            "ATAQUE NOVAMENTE\n"
          ],
          "name": "stdout"
        }
      ]
    }
  ]
}