{
  "nbformat": 4,
  "nbformat_minor": 0,
  "metadata": {
    "colab": {
      "name": "Calculadora do aumento de aluguel.ipynb",
      "provenance": [],
      "collapsed_sections": [],
      "authorship_tag": "ABX9TyOYaeo6suQs+j0fbuS1U9fv",
      "include_colab_link": true
    },
    "kernelspec": {
      "name": "python3",
      "display_name": "Python 3"
    },
    "language_info": {
      "name": "python"
    }
  },
  "cells": [
    {
      "cell_type": "markdown",
      "metadata": {
        "id": "view-in-github",
        "colab_type": "text"
      },
      "source": [
        "<a href=\"https://colab.research.google.com/github/filipemascarenhaspaiva/Projetoblue/blob/main/Calculadora_do_aumento_de_aluguel.ipynb\" target=\"_parent\"><img src=\"https://colab.research.google.com/assets/colab-badge.svg\" alt=\"Open In Colab\"/></a>"
      ]
    },
    {
      "cell_type": "code",
      "metadata": {
        "id": "TtB_N9K4DcEh"
      },
      "source": [
        "aluguel = float(input('valor do aluguel: '))\n",
        "igpm = 1.31\n",
        "aluguel_reajustado = aluguel * igpm\n",
        "print(f'valor do aluguel reajustado: R$ {aluguel_reajustado:.2f}')\n"
      ],
      "execution_count": null,
      "outputs": []
    },
    {
      "cell_type": "code",
      "metadata": {
        "id": "_2cp_T50FX0s"
      },
      "source": [
        "aluguel = float(input('valor do aluguel:'))\n",
        "percentual = float(input('valor do percentual '))\n",
        "\n",
        "print('valor reajustado', aluguel+percentual/100*aluguel)"
      ],
      "execution_count": null,
      "outputs": []
    }
  ]
}