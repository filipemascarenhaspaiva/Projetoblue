{
  "nbformat": 4,
  "nbformat_minor": 0,
  "metadata": {
    "colab": {
      "name": "Calculadora do aumento de aluguel.ipynb",
      "provenance": [],
      "collapsed_sections": [],
      "authorship_tag": "ABX9TyMonxBUYv9bcEvqdnFvwOb4",
      "include_colab_link": true
    },
    "kernelspec": {
      "name": "python3",
      "display_name": "Python 3"
    },
    "language_info": {
      "name": "python"
    }
  },
  "cells": [
    {
      "cell_type": "markdown",
      "metadata": {
        "id": "view-in-github",
        "colab_type": "text"
      },
      "source": [
        "<a href=\"https://colab.research.google.com/github/filipemascarenhaspaiva/Projetoblue/blob/main/Calculadora_do_aumento_de_aluguel.ipynb\" target=\"_parent\"><img src=\"https://colab.research.google.com/assets/colab-badge.svg\" alt=\"Open In Colab\"/></a>"
      ]
    },
    {
      "cell_type": "code",
      "metadata": {
        "id": "TtB_N9K4DcEh"
      },
      "source": [
        "aluguel = float(input('valor do aluguel: '))\n",
        "igpm = 1.31\n",
        "aluguel_reajustado = aluguel * igpm\n",
        "print(f'valor do aluguel reajustado: R$ {aluguel_reajustado:.2f}')\n"
      ],
      "execution_count": null,
      "outputs": []
    },
    {
      "cell_type": "code",
      "metadata": {
        "id": "_2cp_T50FX0s",
        "colab": {
          "base_uri": "https://localhost:8080/"
        },
        "outputId": "acd85885-8618-4dde-8008-0c281f19f9dd"
      },
      "source": [
        "valor_aluguel = float(input('Digite o valor do aluguel: '))\n",
        "\n",
        "percentual_aluguel_str = input('Digite o percentual de aumento: ')\n",
        "percentual_aluguel_replace = percentual_aluguel_str.replace('%', ' ')\n",
        "percentual_aluguel_numero = float(percentual_aluguel_replace)\n",
        "percentual_final = percentual_aluguel_numero / 100 + 1\n",
        "\n",
        "valor_aluguel_reajustado = valor_aluguel * percentual_final\n",
        "print(f'Valor do aluguel reajustado: R$ {valor_aluguel_reajustado:.2f}')"
      ],
      "execution_count": 28,
      "outputs": [
        {
          "output_type": "stream",
          "text": [
            "Digite o valor do aluguel: 1000\n",
            "Digite o percentual de aumento: 31%\n",
            "Valor do aluguel reajustado: R$ 1310.00\n"
          ],
          "name": "stdout"
        }
      ]
    }
  ]
}