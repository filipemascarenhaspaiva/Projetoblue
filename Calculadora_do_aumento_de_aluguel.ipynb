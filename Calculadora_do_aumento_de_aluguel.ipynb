{
  "nbformat": 4,
  "nbformat_minor": 0,
  "metadata": {
    "colab": {
      "name": "Calculadora do aumento de aluguel.ipynb",
      "provenance": [],
      "collapsed_sections": [],
      "authorship_tag": "ABX9TyMGhszpjjSTH15F2Oc7X3zU",
      "include_colab_link": true
    },
    "kernelspec": {
      "name": "python3",
      "display_name": "Python 3"
    },
    "language_info": {
      "name": "python"
    }
  },
  "cells": [
    {
      "cell_type": "markdown",
      "metadata": {
        "id": "view-in-github",
        "colab_type": "text"
      },
      "source": [
        "<a href=\"https://colab.research.google.com/github/filipemascarenhaspaiva/Projetoblue/blob/main/Calculadora_do_aumento_de_aluguel.ipynb\" target=\"_parent\"><img src=\"https://colab.research.google.com/assets/colab-badge.svg\" alt=\"Open In Colab\"/></a>"
      ]
    },
    {
      "cell_type": "code",
      "metadata": {
        "colab": {
          "base_uri": "https://localhost:8080/"
        },
        "id": "TtB_N9K4DcEh",
        "outputId": "8c6ad65a-81a9-4fe5-b3ec-0e7228112ee2"
      },
      "source": [
        "aluguel = float(input('valor do aluguel: '))\n",
        "\n",
        "print('valor do aluguel reajustado: R$', aluguel+aluguel*0.31)"
      ],
      "execution_count": 6,
      "outputs": [
        {
          "output_type": "stream",
          "text": [
            "valor do aluguel: 1000\n",
            "valor do aluguel reajustado: R$ 1310.0\n"
          ],
          "name": "stdout"
        }
      ]
    },
    {
      "cell_type": "code",
      "metadata": {
        "colab": {
          "base_uri": "https://localhost:8080/"
        },
        "id": "_2cp_T50FX0s",
        "outputId": "f26022ba-3a42-4a4a-f4d6-808fdcc3e196"
      },
      "source": [
        "aluguel = float(input('valor do aluguel:'))\n",
        "percentual = float(input('valor do percentual '))\n",
        "\n",
        "print('valor reajustado', aluguel+percentual/100*aluguel)"
      ],
      "execution_count": 9,
      "outputs": [
        {
          "output_type": "stream",
          "text": [
            "valor do aluguel:1000\n",
            "valor do percentual 45\n",
            "valor reajustado 1450.0\n"
          ],
          "name": "stdout"
        }
      ]
    }
  ]
}