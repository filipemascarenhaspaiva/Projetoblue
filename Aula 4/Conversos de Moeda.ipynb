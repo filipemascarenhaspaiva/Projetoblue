{
  "nbformat": 4,
  "nbformat_minor": 0,
  "metadata": {
    "colab": {
      "name": "Conversor de Moeda.ipynb",
      "provenance": [],
      "collapsed_sections": []
    },
    "kernelspec": {
      "name": "python3",
      "display_name": "Python 3"
    },
    "language_info": {
      "name": "python"
    }
  },
  "cells": [
    {
      "cell_type": "code",
      "metadata": {
        "id": "zJMMsSeY9Crk"
      },
      "source": [
        "real = float(input('valor em real:'))\n",
        "\n",
        "print('valor em dolar: $$', real/5.75)"
      ],
      "execution_count": null,
      "outputs": []
    },
    {
      "cell_type": "code",
      "metadata": {
        "id": "brdLN4HEChi7"
      },
      "source": [
        "dolar = float(input('valor em dolar '))\n",
        "\n",
        "print('valor em real: R$', dolar*5.75)"
      ],
      "execution_count": null,
      "outputs": []
    }
  ]
}