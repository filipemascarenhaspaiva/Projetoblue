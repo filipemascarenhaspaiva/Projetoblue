{
  "nbformat": 4,
  "nbformat_minor": 0,
  "metadata": {
    "colab": {
      "name": "Aumento_de_salario Condicional.ipynb",
      "provenance": [],
      "collapsed_sections": [],
      "authorship_tag": "ABX9TyNrZXpByn/1DKTK4mN3uTle",
      "include_colab_link": true
    },
    "kernelspec": {
      "name": "python3",
      "display_name": "Python 3"
    },
    "language_info": {
      "name": "python"
    }
  },
  "cells": [
    {
      "cell_type": "markdown",
      "metadata": {
        "id": "view-in-github",
        "colab_type": "text"
      },
      "source": [
        "<a href=\"https://colab.research.google.com/github/filipemascarenhaspaiva/Projetoblue/blob/main/Aumento_de_salario_Condicional.ipynb\" target=\"_parent\"><img src=\"https://colab.research.google.com/assets/colab-badge.svg\" alt=\"Open In Colab\"/></a>"
      ]
    },
    {
      "cell_type": "code",
      "metadata": {
        "id": "6ZBirO-zW496"
      },
      "source": [
        "salario_atual = float(input('Insira o valor do seu salario atual: '))\n",
        "\n",
        "percentual_1 = 1.20\n",
        "salario_reajustado_1 = salario_atual * percentual_1\n",
        "aumento_1 = salario_reajustado_1 - salario_atual\n",
        "\n",
        "percentual_2 = 1.15\n",
        "salario_reajustado_2 = salario_atual * percentual_2\n",
        "aumento_2 = salario_reajustado_2 - salario_atual\n",
        "\n",
        "percentual_3 = 1.10\n",
        "salario_reajustado_3 = salario_atual * percentual_3\n",
        "aumento_3 = salario_reajustado_3 - salario_atual\n",
        "\n",
        "percentual_4 = 1.05\n",
        "salario_reajustado_4 = salario_atual * percentual_4\n",
        "aumento_4 = salario_reajustado_4 - salario_atual\n",
        "\n",
        "if 0 < salario_atual <= 280:\n",
        "  print(f'Seu salario atual de R$ {salario_atual:.2f} terá um aumento de R$ {aumento_1:.2f} devido ao percentual de 20% referente ao reajuste, sua nova renda é de R$ {salario_reajustado_1:.2f}')\n",
        "elif 280 < salario_atual <= 700: \n",
        "  print(f'Seu salario atual de R$ {salario_atual:.2f} terá um aumento de R$ {aumento_2:.2f} devido ao percentual de 15% referente ao reajuste, sua nova renda é de R$ {salario_reajustado_2:.2f}') \n",
        "elif 700 < salario_atual <= 1500: \n",
        "  print(f'Seu salario atual de R$ {salario_atual:.2f} terá um aumento de R$ {aumento_3:.2f} devido ao percentual de 10% referente ao reajuste, sua nova renda é de R$ {salario_reajustado_3:.2f}') \n",
        "elif salario_atual > 1500: \n",
        "  print(f'Seu salario atual de R$ {salario_atual:.2f} terá um aumento de R$ {aumento_4:.2f} devido ao percentual de 05% referente ao reajuste, sua nova renda é de R$ {salario_reajustado_4:.2f}')\n",
        "else: \n",
        "  print('Valor indefinido')"
      ],
      "execution_count": null,
      "outputs": []
    }
  ]
}