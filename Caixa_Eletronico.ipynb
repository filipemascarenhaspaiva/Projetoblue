{
  "nbformat": 4,
  "nbformat_minor": 0,
  "metadata": {
    "colab": {
      "name": "Caixa_Eletronico.ipynb",
      "provenance": [],
      "collapsed_sections": [],
      "authorship_tag": "ABX9TyNhjFIb+z9TeZjTKqWn6DGS",
      "include_colab_link": true
    },
    "kernelspec": {
      "name": "python3",
      "display_name": "Python 3"
    },
    "language_info": {
      "name": "python"
    }
  },
  "cells": [
    {
      "cell_type": "markdown",
      "metadata": {
        "id": "view-in-github",
        "colab_type": "text"
      },
      "source": [
        "<a href=\"https://colab.research.google.com/github/filipemascarenhaspaiva/Projetoblue/blob/main/Caixa_Eletronico.ipynb\" target=\"_parent\"><img src=\"https://colab.research.google.com/assets/colab-badge.svg\" alt=\"Open In Colab\"/></a>"
      ]
    },
    {
      "cell_type": "code",
      "metadata": {
        "colab": {
          "base_uri": "https://localhost:8080/"
        },
        "id": "S5vvcvWPgSQA",
        "outputId": "7755ab62-6a03-4628-9450-200a7eb19d61"
      },
      "source": [
        "valor_saque = int(input('Infome o valor a ser sacado entre 10 e 600 reais: '))\n",
        "\n",
        "notas_100 = valor_saque // 100\n",
        "notas_10 = valor_saque // 10\n",
        "notas_5 = (valor_saque % 10) // 5\n",
        "notas_1 = (valor_saque % 5) // 1\n",
        "altas_notas_10 = valor_saque % 100 // 10\n",
        "\n",
        "if valor_saque < 10 or valor_saque > 600: \n",
        "  print('Valor invalido') \n",
        "\n",
        "if 10 <= valor_saque <= 99: \n",
        "  if valor_saque % 10 == 0: \n",
        "    if valor_saque == 10: \n",
        "      print(f'Para sacar a quantia de {valor_saque} reais, o programa fornece uma nota de 10 reais;')\n",
        "    else: \n",
        "      print(f'Para sacar a quantia de {valor_saque} reais, o programa fornece {notas_10} notas de dez reais;')\n",
        "  if valor_saque % 10 > 0 and valor_saque % 5 == 0: \n",
        "    print(f'Para sacar a quantia de {valor_saque} reais, o programa fornece {notas_10} notas de dez e uma nota de cinco reais')\n",
        "  elif valor_saque % 10 > 0 and valor_saque % 5 > 0 and notas_1 == 1: \n",
        "    print(f'Para sacar a quantia de {valor_saque} reais, o programa fornece {notas_10} notas de dez, {notas_5} nota de cinco e {notas_1} nota de um real;')\n",
        "  elif valor_saque % 10 > 0 and valor_saque % 5 > 0: \n",
        "    print(f'Para sacar a quantia de {valor_saque} reais, o programa fornece {notas_10} notas de dez, {notas_5} nota de cinco e {notas_1} notas de um real;')\n",
        "if 100 <= valor_saque <= 600: \n",
        "  if valor_saque % 100 == 0: \n",
        "    if valor_saque == 100: \n",
        "      print(f'Para sacar a quantia de {valor_saque} reais, o programa fornece uma nota de cem reais;')\n",
        "    else: \n",
        "      print(f'Para sacar a quantia de {valor_saque} reais, o programa fornece {notas_100} notas de cem reais;')\n",
        "  if valor_saque % 100 >0 and valor_saque % 10 == 0: \n",
        "    print(f'Para sacar a quantia de {valor_saque} reais, o programa fornece {notas_100} notas de cem reais e {altas_notas_10} notas de dez reais')\n",
        "  elif valor_saque % 100 > 0 and valor_saque % 10 > 0 and valor_saque % 5 == 0: \n",
        "    print(f'Para sacar a quantia de {valor_saque} reais, o programa fornece {notas_100} notas de cem, {altas_notas_10} notas de dez e {notas_5} nota de cinco reais;')\n",
        "  if valor_saque % 100 > 0 and valor_saque % 10 > 0 and valor_saque % 5 > 0 and notas_5 == 0 and notas_1 == 1: \n",
        "    print(f'Para sacar a quantia de {valor_saque} reais, o programa fornece {notas_100} notas de cem, {altas_notas_10} notas de dez e {notas_1} nota de um real')\n",
        "  elif valor_saque % 100 > 0 and valor_saque % 10 > 0 and valor_saque % 5 > 0 and notas_1 == 1: \n",
        "    print(f'Para sacar a quantia de {valor_saque} reais, o programa fornece {notas_100} notas de cem, {altas_notas_10} notas de dez, {notas_5} nota de cinco reais e {notas_1} nota de um real')\n",
        "  elif valor_saque % 100 > 0 and valor_saque % 10 > 0 and valor_saque % 5 > 0: \n",
        "    print(f'Para sacar a quantia de {valor_saque} reais, o programa fornece {notas_100} notas de cem, {altas_notas_10} notas de dez, {notas_5} nota de cinco reais e {notas_1} notas de um real')"
      ],
      "execution_count": 100,
      "outputs": [
        {
          "output_type": "stream",
          "text": [
            "Infome o valor a ser sacado entre 10 e 600 reais: 800\n",
            "Valor invalido\n"
          ],
          "name": "stdout"
        }
      ]
    }
  ]
}