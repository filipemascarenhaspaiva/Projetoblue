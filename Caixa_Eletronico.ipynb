{
  "nbformat": 4,
  "nbformat_minor": 0,
  "metadata": {
    "colab": {
      "name": "Caixa_Eletronico.ipynb",
      "provenance": [],
      "collapsed_sections": [],
      "include_colab_link": true
    },
    "kernelspec": {
      "name": "python3",
      "display_name": "Python 3"
    },
    "language_info": {
      "name": "python"
    }
  },
  "cells": [
    {
      "cell_type": "markdown",
      "metadata": {
        "id": "view-in-github",
        "colab_type": "text"
      },
      "source": [
        "<a href=\"https://colab.research.google.com/github/filipemascarenhaspaiva/Projetoblue/blob/main/Caixa_Eletronico.ipynb\" target=\"_parent\"><img src=\"https://colab.research.google.com/assets/colab-badge.svg\" alt=\"Open In Colab\"/></a>"
      ]
    },
    {
      "cell_type": "code",
      "metadata": {
        "colab": {
          "base_uri": "https://localhost:8080/"
        },
        "id": "S5vvcvWPgSQA",
        "outputId": "bff82685-e5d8-4663-f0b4-c8d2438af72e"
      },
      "source": [
        "valor= int(input('Digite o valor para sacar entre R$ 10 e R$ 600: '))\n",
        "valor_2 = valor\n",
        "if 10 <= valor <= 600:\n",
        "\n",
        "  cem = int(valor / 100)\n",
        "  valor = valor - (cem*100)\n",
        "\n",
        "  cinquenta = int(valor / 50)\n",
        "  valor = valor - (cin*50)\n",
        "\n",
        "  dez = int(valor / 10)\n",
        "  valor = valor - (dez*10)\n",
        "\n",
        "  cinco = int(valor / 5)\n",
        "  valor = valor - (cinco*5)\n",
        "\n",
        "  um = int(valor / 1)\n",
        "  valor = valor - (um*1)\n",
        "\n",
        "\n",
        "  print(f'Para sacar a quantia de {valor_2} reais, o programa fornece {cem} notas de cem, {cinquenta} de cinquenta, {dez} de dez, {cinco} de cinco e {um} de um real')\n",
        "else:\n",
        "  print('Valor invalido')\n",
        "\n",
        "\n",
        "  \n",
        "  "
      ],
      "execution_count": 3,
      "outputs": [
        {
          "output_type": "stream",
          "text": [
            "Digite o valor para sacar entre R$ 10 e R$ 600: 847\n"
          ],
          "name": "stdout"
        }
      ]
    }
  ]
}