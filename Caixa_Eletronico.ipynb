{
  "nbformat": 4,
  "nbformat_minor": 0,
  "metadata": {
    "colab": {
      "name": "Caixa_Eletronico.ipynb",
      "provenance": [],
      "collapsed_sections": [],
      "include_colab_link": true
    },
    "kernelspec": {
      "name": "python3",
      "display_name": "Python 3"
    },
    "language_info": {
      "name": "python"
    }
  },
  "cells": [
    {
      "cell_type": "markdown",
      "metadata": {
        "id": "view-in-github",
        "colab_type": "text"
      },
      "source": [
        "<a href=\"https://colab.research.google.com/github/filipemascarenhaspaiva/Projetoblue/blob/main/Caixa_Eletronico.ipynb\" target=\"_parent\"><img src=\"https://colab.research.google.com/assets/colab-badge.svg\" alt=\"Open In Colab\"/></a>"
      ]
    },
    {
      "cell_type": "code",
      "metadata": {
        "colab": {
          "base_uri": "https://localhost:8080/"
        },
        "id": "S5vvcvWPgSQA",
        "outputId": "b6acdaf2-0e0d-4a9c-b439-1cdd40255acc"
      },
      "source": [
        "valor_saque = int(input('Digite o valor para sacar entre R$ 10 e R$ 600: '))\n",
        "valor_saque_real = valor_saque\n",
        "if 10 <= valor_saque <= 600: \n",
        "  notas_100 = valor_saque // 100\n",
        "  notas_50 = valor_saque % 100 // 50\n",
        "  notas_10 = valor_saque % 50 // 10\n",
        "  notas_5 = valor_saque % 10 // 5\n",
        "  notas_1 = valor_saque % 5\n",
        "\n",
        "  print(f'Para sacar a quantia de {valor_saque_real} reais, o programa fornece {notas_100} notas de cem, {notas_50} de cinquenta, {notas_10} de dez, {notas_5} de cinco e {notas_1} de um real')"
      ],
      "execution_count": 10,
      "outputs": [
        {
          "output_type": "stream",
          "text": [
            "Digite o valor para sacar entre R$ 10 e R$ 600: 500\n",
            "Para sacar a quantia de 500 reais, o programa fornece 5 notas de cem, 0 de cinquenta, 0 de dez, 0 de cinco e 0 de um real\n"
          ],
          "name": "stdout"
        }
      ]
    }
  ]
}