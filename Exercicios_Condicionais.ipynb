{
  "nbformat": 4,
  "nbformat_minor": 0,
  "metadata": {
    "colab": {
      "name": "Exercicios_Condicionais.ipynb",
      "provenance": [],
      "collapsed_sections": [],
      "authorship_tag": "ABX9TyPHtlZ2GfIp0E5zS5AIFQ0C",
      "include_colab_link": true
    },
    "kernelspec": {
      "name": "python3",
      "display_name": "Python 3"
    },
    "language_info": {
      "name": "python"
    }
  },
  "cells": [
    {
      "cell_type": "markdown",
      "metadata": {
        "id": "view-in-github",
        "colab_type": "text"
      },
      "source": [
        "<a href=\"https://colab.research.google.com/github/filipemascarenhaspaiva/Projetoblue/blob/main/Exercicios_Condicionais.ipynb\" target=\"_parent\"><img src=\"https://colab.research.google.com/assets/colab-badge.svg\" alt=\"Open In Colab\"/></a>"
      ]
    },
    {
      "cell_type": "code",
      "metadata": {
        "id": "kHo0bo4_pyGa"
      },
      "source": [
        "#Exercício 1: \"Faça um Programa que leia três números inteiros, em seguida mostre o maior e o menor deles.\"\n",
        "\n",
        "numero1 = int(input(\"Digite o primeiro número: \"))\n",
        "numero2 = int(input(\"Digite o segundo número: \"))\n",
        "numero3 = int(input(\"Digite o terceiro número: \"))\n",
        "\n",
        "if numero1 < numero2 and numero2 < numero3:\n",
        "  print(\"Menor número: \",numero1, \"\\nMaior número: \", numero3)\n",
        "elif numero1 < numero3 and numero3 < numero2:\n",
        "  print(\"Menor número: \",numero1, \"\\nMaior número: \", numero2)\n",
        "elif numero1 > numero2 and numero2 > numero3:\n",
        "  print(\"Menor número: \",numero3, \"\\nMaior número: \", numero1)\n",
        "elif numero2 > numero1 and numero1 > numero3:\n",
        "  print(\"Menor número: \",numero3, \"\\nMaior número: \", numero2)\n",
        "elif numero1 > numero3 and numero3 > numero2:\n",
        "  print(\"Menor número: \",numero2, \"\\nMaior número: \", numero1)\n",
        "elif numero3 > numero1 and numero1 > numero2:\n",
        "  print(\"Menor número: \",numero2, \"\\nMaior número: \", numero3)\n",
        "\n",
        "\n"
      ],
      "execution_count": null,
      "outputs": []
    },
    {
      "cell_type": "code",
      "metadata": {
        "id": "3OvxuL1X_t9Y"
      },
      "source": [
        "#Exercício 2 - Faça um programa que peça dois números e imprima o maior deles.\n",
        "\n",
        "numero_1 = int(input('Insira o primeiro valor: '))\n",
        "numero_2 = int(input('Insira o segundo valor: '))\n",
        "\n",
        "if numero_1>numero_2:\n",
        "  print('O maior valor é: ', numero_1)\n",
        "elif numero_2>numero_1:\n",
        "  print('O maior valor é: ', numero_2)\n"
      ],
      "execution_count": null,
      "outputs": []
    },
    {
      "cell_type": "code",
      "metadata": {
        "id": "NG0Fn1EiGAFU"
      },
      "source": [
        "#Exercício 3 - Faça um script que peça um valor e mostre na tela se o valor é positivo ou negativo\n",
        "\n",
        "valor = int(input('Insira um numero inteiro: '))\n",
        "\n",
        "if valor < 0:\n",
        "  print('O numero é negativo')\n",
        "elif valor > 0:\n",
        "  print('O numero é positivo')\n",
        "else:\n",
        "  print('O valor é 0, desta forma ele não é positivo e nem negativo')"
      ],
      "execution_count": null,
      "outputs": []
    },
    {
      "cell_type": "code",
      "metadata": {
        "id": "XDiNjOijHdE4"
      },
      "source": [
        "#Exercício 4 - Crie um programa que verifique se uma letra digitada é \"F\" ou \"M\". Conforme a letra escrever: F - Feminino, M - Masculino, Sexo Inválido.\n",
        "\n",
        "letra = input('Digite \"F\" se o seu sexo for feminino e \"M\" se for masculino\\n')\n",
        "\n",
        "if letra.upper() == 'F':\n",
        "  print('F- Feminino')\n",
        "elif letra.upper() == 'M':\n",
        "  print('M- Masculino')\n",
        "else:\n",
        "  print('Sexo invalido')"
      ],
      "execution_count": null,
      "outputs": []
    },
    {
      "cell_type": "code",
      "metadata": {
        "id": "_vm7BlqBJqvG"
      },
      "source": [
        "'''Exercício 5 - Crie um programa em Python que peça a nota do aluno, que deve ser um float entre 0.00 e 10.0\n",
        "\n",
        "Se a nota for menor que 6.0, deve exibir a nota F.\n",
        "Se a nota for de 6.0 até 7.0, deve exibir a nota D.\n",
        "Se a nota for entre 7.0 e 8.0, deve exibir a nota C.\n",
        "Se a nota for entre 8.0 e 9.0, deve exibir a nota B.\n",
        "Por fim, se for entre 9.0 e 10.0, deve exibir um belo de um A.'''\n",
        "\n",
        "nota = float(input('Insira a nota do aluno:\\n'))\n",
        "\n",
        "\n",
        "if 0 <= nota < 6:\n",
        "  print('nota F')\n",
        "elif 6 <= nota < 7:\n",
        "  print('nota D')\n",
        "elif 7 <= nota < 8:\n",
        "  print('nota C')\n",
        "elif 8 <= nota < 9:\n",
        "  print('nota B')\n",
        "elif 9 <= nota <= 10:\n",
        "  print('sua nota é um belo A')\n",
        "else:\n",
        "  print('Erro: nota invalida')\n",
        "  "
      ],
      "execution_count": null,
      "outputs": []
    },
    {
      "cell_type": "code",
      "metadata": {
        "id": "-Ckyl_CCMjzI",
        "colab": {
          "base_uri": "https://localhost:8080/"
        },
        "outputId": "9c8e370a-b51d-4f68-9d0b-c3f3a18b92e9"
      },
      "source": [
        "letter = input('Insira uma letra do alfabeto:\\n')\n",
        "\n",
        "if letter.upper() == 'B': \n",
        "  print('A letra é uma Consoante')\n",
        "if letter.upper() == 'C':\n",
        "  print('A letra é uma Consoante')\n",
        "if letter.upper() == 'D':\n",
        "  print('A letra é uma Consoante')\n",
        "if letter.upper() == 'F':\n",
        "  print('A letra é uma Consoante')\n",
        "if letter.upper() == 'G':\n",
        "  print('A letra é uma Consoante')\n",
        "if letter.upper() == 'H':\n",
        "  print('A letra é uma Consoante')\n",
        "if letter.upper() == 'J':\n",
        "  print('A letra é uma Consoante')\n",
        "if letter.upper() == 'K':\n",
        "  print('A letra é uma Consoante')\n",
        "if letter.upper() == 'L':\n",
        "  print('A letra é uma Consoante')\n",
        "if letter.upper() == 'M':\n",
        "  print('A letra é uma Consoante')\n",
        "if letter.upper() == 'N':\n",
        "  print('A letra é uma Consoante')\n",
        "if letter.upper() == 'P':\n",
        "  print('A letra é uma Consoante')\n",
        "if letter.upper() == 'Q':\n",
        "  print('A letra é uma Consoante')\n",
        "if letter.upper() == 'R':\n",
        "  print('A letra é uma Consoante')\n",
        "if letter.upper() == 'S':\n",
        "  print('A letra é uma Consoante')\n",
        "if letter.upper() == 'T':\n",
        "  print('A letra é uma Consoante')\n",
        "if letter.upper() == 'V':\n",
        "  print('A letra é uma Consoante')\n",
        "if letter.upper() == 'W':\n",
        "  print('A letra é uma Consoante')\n",
        "if letter.upper() == 'X':\n",
        "  print('A letra é uma Consoante')\n",
        "if letter.upper() == 'Y':\n",
        "  print('A letra é uma Consoante')\n",
        "if letter.upper() == 'Z':\n",
        "  print('A letra é uma Consoante')\n",
        "if letter.upper() == 'A':\n",
        "  print('Vogal')\n",
        "if letter.upper() == 'E':\n",
        "  print('A letra é uma Vogal')\n",
        "if letter.upper() == 'I':\n",
        "  print('A letra é uma Vogal')\n",
        "if letter.upper() == 'O':\n",
        "  print('A letra é uma Vogal')\n",
        "if letter.upper() == 'U':\n",
        "  print('A letra é uma Vogal')"
      ],
      "execution_count": 133,
      "outputs": [
        {
          "output_type": "stream",
          "text": [
            "Insira uma letra do alfabeto:\n",
            "a\n",
            "Consoante\n",
            "Vogal\n",
            "Caractere invalido\n"
          ],
          "name": "stdout"
        }
      ]
    },
    {
      "cell_type": "markdown",
      "metadata": {
        "id": "G_lfE0w3UX2o"
      },
      "source": [
        "Ficou grande mas foi a maneira que achei de o programa entregar o que foi pedido"
      ]
    }
  ]
}