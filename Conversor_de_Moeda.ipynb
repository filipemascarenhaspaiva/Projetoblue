{
  "nbformat": 4,
  "nbformat_minor": 0,
  "metadata": {
    "colab": {
      "name": "Conversor de Moeda.ipynb",
      "provenance": [],
      "collapsed_sections": [],
      "authorship_tag": "ABX9TyNhbAnOOFcMMhiXgs8GCE+W",
      "include_colab_link": true
    },
    "kernelspec": {
      "name": "python3",
      "display_name": "Python 3"
    },
    "language_info": {
      "name": "python"
    }
  },
  "cells": [
    {
      "cell_type": "markdown",
      "metadata": {
        "id": "view-in-github",
        "colab_type": "text"
      },
      "source": [
        "<a href=\"https://colab.research.google.com/github/filipemascarenhaspaiva/Projetoblue/blob/main/Conversor_de_Moeda.ipynb\" target=\"_parent\"><img src=\"https://colab.research.google.com/assets/colab-badge.svg\" alt=\"Open In Colab\"/></a>"
      ]
    },
    {
      "cell_type": "code",
      "metadata": {
        "colab": {
          "base_uri": "https://localhost:8080/"
        },
        "id": "zJMMsSeY9Crk",
        "outputId": "0367b276-a205-46a7-ee4f-eb294d135065"
      },
      "source": [
        "real = float(input('valor em real:'))\n",
        "\n",
        "print('valor em dolar: $$', real/5.75)"
      ],
      "execution_count": 19,
      "outputs": [
        {
          "output_type": "stream",
          "text": [
            "valor em real:5.75\n",
            "valor em dolar: $$ 1.0\n"
          ],
          "name": "stdout"
        }
      ]
    },
    {
      "cell_type": "code",
      "metadata": {
        "colab": {
          "base_uri": "https://localhost:8080/"
        },
        "id": "brdLN4HEChi7",
        "outputId": "3bf22609-c3fb-4983-fd05-c129f1373e4a"
      },
      "source": [
        "dolar = float(input('valor em dolar '))\n",
        "\n",
        "print('valor em real: R$', dolar*5.75)"
      ],
      "execution_count": 17,
      "outputs": [
        {
          "output_type": "stream",
          "text": [
            "valor em dolar 1\n",
            "valor em real: R$ 5.75\n"
          ],
          "name": "stdout"
        }
      ]
    }
  ]
}