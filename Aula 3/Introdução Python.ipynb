{
  "nbformat": 4,
  "nbformat_minor": 0,
  "metadata": {
    "colab": {
      "name": "Programa Introdução a Python.ipynb",
      "provenance": [],
      "collapsed_sections": []
    },
    "kernelspec": {
      "name": "python3",
      "display_name": "Python 3"
    },
    "language_info": {
      "name": "python"
    }
  },
  "cells": [
    {
      "cell_type": "code",
      "metadata": {
        "id": "_T4_AP-8B--U",
        "colab": {
          "base_uri": "https://localhost:8080/"
        },
        "outputId": "aeb12455-5cb0-46a1-e689-776919397135"
      },
      "source": [
        "print(\"Olá Mundo\")"
      ],
      "execution_count": null,
      "outputs": [
        {
          "output_type": "stream",
          "text": [
            "Olá Mundo\n"
          ],
          "name": "stdout"
        }
      ]
    },
    {
      "cell_type": "markdown",
      "metadata": {
        "id": "hXAWNdezG6f_"
      },
      "source": [
        "Sintaxe de Print \n"
      ]
    },
    {
      "cell_type": "code",
      "metadata": {
        "colab": {
          "base_uri": "https://localhost:8080/"
        },
        "id": "Z9mmBfsgG5kT",
        "outputId": "864b2b57-4ba9-47d1-b7b8-283756d2a014"
      },
      "source": [
        "varString = \"Isto é uma variavel String\"\n",
        "varInt = 20\n",
        "varFloat = 10.5\n",
        "\n",
        "'''Comando para exibir as variaveis na tela\n",
        "\n",
        "\n",
        "#print(varString)\n",
        "#print(varFloat)\n",
        "#print(varInt)'''\n",
        "\n",
        "print(type(varString))\n",
        "print(type(varInt))\n",
        "print(type(varFloat))\n",
        "\n"
      ],
      "execution_count": null,
      "outputs": [
        {
          "output_type": "stream",
          "text": [
            "<class 'str'>\n",
            "<class 'int'>\n",
            "<class 'float'>\n"
          ],
          "name": "stdout"
        }
      ]
    },
    {
      "cell_type": "markdown",
      "metadata": {
        "id": "ayGDKAiNUtjb"
      },
      "source": [
        "Determinar o tipo de uma String e printar variavel"
      ]
    },
    {
      "cell_type": "code",
      "metadata": {
        "colab": {
          "base_uri": "https://localhost:8080/"
        },
        "id": "u1AYKhXHKkPI",
        "outputId": "f5823056-ed34-42d5-8848-be41a094b36e"
      },
      "source": [
        "texto1 = 'Isso é um texto'\n",
        "texto2 = 'Isso também é um texto'\n",
        "print(texto1, texto2)"
      ],
      "execution_count": null,
      "outputs": [
        {
          "output_type": "stream",
          "text": [
            "Isso é um textoIsso também é um texto\n"
          ],
          "name": "stdout"
        }
      ]
    },
    {
      "cell_type": "markdown",
      "metadata": {
        "id": "LTLZen2EU20-"
      },
      "source": [
        "Concatenar"
      ]
    },
    {
      "cell_type": "code",
      "metadata": {
        "colab": {
          "base_uri": "https://localhost:8080/"
        },
        "id": "kIpb0ztsOJYh",
        "outputId": "caad8554-0e52-4293-db56-372683e0027d"
      },
      "source": [
        "print(5+5)\n",
        "print(10-5)\n",
        "print(3*10)\n",
        "print(10/5)\n",
        "print(10//5)\n",
        "print(20 % 800)\n",
        "print(10**2)"
      ],
      "execution_count": null,
      "outputs": [
        {
          "output_type": "stream",
          "text": [
            "10\n",
            "5\n",
            "30\n",
            "2.0\n",
            "2\n",
            "20\n",
            "100\n"
          ],
          "name": "stdout"
        }
      ]
    },
    {
      "cell_type": "markdown",
      "metadata": {
        "id": "KUmvz7prU7YU"
      },
      "source": [
        "Operadores Aritméticos"
      ]
    },
    {
      "cell_type": "code",
      "metadata": {
        "id": "q4mIsPNGP27_"
      },
      "source": [
        "var1 = 1\n",
        "var2 = 2\n",
        "var3 = 3\n",
        "\n",
        "var1 > var3\n",
        "var4 = 'String'\n",
        "var5 = 'String2'\n",
        "\n",
        "var4 = var5"
      ],
      "execution_count": null,
      "outputs": []
    },
    {
      "cell_type": "markdown",
      "metadata": {
        "id": "l8uWyMCSU_WP"
      },
      "source": [
        "Operadores Relacionais"
      ]
    },
    {
      "cell_type": "markdown",
      "metadata": {
        "id": "1HOZabLNG5wx"
      },
      "source": [
        ""
      ]
    },
    {
      "cell_type": "code",
      "metadata": {
        "colab": {
          "base_uri": "https://localhost:8080/"
        },
        "id": "0kzQgdBmSd1y",
        "outputId": "ee417b45-b4c6-4d86-dc25-8230532f63cf"
      },
      "source": [
        "var1 = 1\n",
        "var2 = 2\n",
        "var3 = 3\n",
        "\n",
        "var3 > var1 and var3 > var2\n",
        "var3 > var1 or var3 <var2\n"
      ],
      "execution_count": null,
      "outputs": [
        {
          "output_type": "execute_result",
          "data": {
            "text/plain": [
              "True"
            ]
          },
          "metadata": {
            "tags": []
          },
          "execution_count": 47
        }
      ]
    },
    {
      "cell_type": "markdown",
      "metadata": {
        "id": "q_S2uAlbVHaz"
      },
      "source": [
        "operadores Lógicos"
      ]
    },
    {
      "cell_type": "code",
      "metadata": {
        "colab": {
          "base_uri": "https://localhost:8080/"
        },
        "id": "4nAkcAdrWZEk",
        "outputId": "5df90019-7297-4f1a-e19c-ce424580f961"
      },
      "source": [
        "varInput1 = int(input('Insira um numero'))\n",
        "varInput2 = int(input('insira outro numero'))\n",
        "print(varInput1 + varInput2)\n",
        "\n"
      ],
      "execution_count": 1,
      "outputs": [
        {
          "output_type": "stream",
          "text": [
            "Insira um numero15\n",
            "insira outro numero15\n",
            "30\n"
          ],
          "name": "stdout"
        }
      ]
    },
    {
      "cell_type": "markdown",
      "metadata": {
        "id": "b0fL4EkKWZiB"
      },
      "source": [
        "Imput"
      ]
    },
    {
      "cell_type": "code",
      "metadata": {
        "colab": {
          "base_uri": "https://localhost:8080/"
        },
        "id": "MUv2wkon_gYj",
        "outputId": "b4745a08-98ad-4c92-dd3f-2de620f6c4eb"
      },
      "source": [
        "variavel = 'filipe Mascarenhas paiva'\n",
        "\n",
        "print(len(variavel))\n",
        "print(variavel.capitalize())\n",
        "print(variavel.count('i'))\n",
        "print(variavel.startswith('Fi'))\n",
        "print(variavel.endswith('Fi'))\n",
        "print(variavel.isalnum())\n",
        "print(variavel.isalpha())\n",
        "print(variavel.islower())\n",
        "print(variavel.isupper())\n",
        "print(variavel.lower())\n",
        "print(variavel.upper())\n",
        "print(variavel.swapcase())\n",
        "print(variavel.title())\n",
        "print(variavel.split())\n",
        "print(variavel.replace('i', 'e'))\n",
        "print(variavel.find('i'))\n",
        "print(variavel.ljust(11))\n",
        "print(variavel.center(10))\n",
        "print(variavel.strip())\n"
      ],
      "execution_count": 7,
      "outputs": [
        {
          "output_type": "stream",
          "text": [
            "24\n",
            "Filipe mascarenhas paiva\n",
            "3\n",
            "False\n",
            "False\n",
            "False\n",
            "False\n",
            "False\n",
            "False\n",
            "filipe mascarenhas paiva\n",
            "FILIPE MASCARENHAS PAIVA\n",
            "FILIPE mASCARENHAS PAIVA\n",
            "Filipe Mascarenhas Paiva\n",
            "['filipe', 'Mascarenhas', 'paiva']\n",
            "felepe Mascarenhas paeva\n",
            "1\n",
            "filipe Mascarenhas paiva\n",
            "filipe Mascarenhas paiva\n",
            "filipe Mascarenhas paiva\n"
          ],
          "name": "stdout"
        }
      ]
    },
    {
      "cell_type": "markdown",
      "metadata": {
        "id": "4VB_eofZ_gxF"
      },
      "source": [
        "Manipulando Strings"
      ]
    }
  ]
}