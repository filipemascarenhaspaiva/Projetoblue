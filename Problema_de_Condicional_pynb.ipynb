{
  "nbformat": 4,
  "nbformat_minor": 0,
  "metadata": {
    "colab": {
      "name": "Problema de Condicional.pynb",
      "provenance": [],
      "collapsed_sections": [],
      "authorship_tag": "ABX9TyOv4y6iBCWZ+3bd+XUkgSBA",
      "include_colab_link": true
    },
    "kernelspec": {
      "name": "python3",
      "display_name": "Python 3"
    },
    "language_info": {
      "name": "python"
    }
  },
  "cells": [
    {
      "cell_type": "markdown",
      "metadata": {
        "id": "view-in-github",
        "colab_type": "text"
      },
      "source": [
        "<a href=\"https://colab.research.google.com/github/filipemascarenhaspaiva/Projetoblue/blob/main/Problema_de_Condicional_pynb.ipynb\" target=\"_parent\"><img src=\"https://colab.research.google.com/assets/colab-badge.svg\" alt=\"Open In Colab\"/></a>"
      ]
    },
    {
      "cell_type": "code",
      "metadata": {
        "colab": {
          "base_uri": "https://localhost:8080/",
          "height": 129
        },
        "id": "kHo0bo4_pyGa",
        "outputId": "341f431c-74e1-4c50-a9e5-1832285f22a9"
      },
      "source": [
        "numero1 = int(input(\"Digite o primeiro número: \"))\n",
        "numero2 = int(input(\"Digite o segundo número: \"))\n",
        "numero3 = int(input(\"Digite o terceiro número: \"))\n",
        "\n",
        "if numero1 < numero2 and numero2 < numero3:\n",
        "  print(\"Menor número: \",numero1, \"\\nMaior número: \", numero3)\n",
        "elif numero1 < numero3 and numero3 < numero2:\n",
        "  print(\"Menor número: \",numero1, \"\\nMaior número: \", numero2)\n",
        "elif numero1 > numero2 and numero2 > numero3:\n",
        "  print(\"Menor número: \",numero3, \"\\nMaior número: \", numero1)\n",
        "elif numero2 > numero1 and numero1 > numero3:\n",
        "  print(\"Menor número: \",numero3, \"\\nMaior número: \", numero2)\n",
        "elif numero1 > numero3 and numero3 > numero2:\n",
        "  print(\"Menor número: \",numero2, \"\\nMaior número: \", numero1)\n",
        "elif numero3 > numero1 and numero1 > numero2:\n",
        "  print(\"Menor número: \",numero2, \"\\nMaior número: \", numero3)\n",
        "\n",
        "\n"
      ],
      "execution_count": null,
      "outputs": [
        {
          "output_type": "error",
          "ename": "SyntaxError",
          "evalue": "ignored",
          "traceback": [
            "\u001b[0;36m  File \u001b[0;32m\"<ipython-input-12-29092e4aef38>\"\u001b[0;36m, line \u001b[0;32m9\u001b[0m\n\u001b[0;31m    elif num3 > num2 and num1:\u001b[0m\n\u001b[0m       ^\u001b[0m\n\u001b[0;31mSyntaxError\u001b[0m\u001b[0;31m:\u001b[0m invalid syntax\n"
          ]
        }
      ]
    },
    {
      "cell_type": "markdown",
      "metadata": {
        "id": "3waP9PNVuRVq"
      },
      "source": [
        "coloque três inteiros e me diga o menor e o maior valor"
      ]
    }
  ]
}